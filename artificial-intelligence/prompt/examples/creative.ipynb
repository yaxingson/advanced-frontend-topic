{
 "cells": [
  {
   "cell_type": "code",
   "execution_count": 7,
   "id": "21b1b330",
   "metadata": {},
   "outputs": [
    {
     "name": "stdout",
     "output_type": "stream",
     "text": [
      "负面。\n"
     ]
    }
   ],
   "source": [
    "from core import question\n",
    "\n",
    "prompt = '''\n",
    "请将下列文本分类中负面、中性和正面：\n",
    "\n",
    "文本：这个产品真是糟透了，完全不符合描述。客服态度也非常差，根本不解决问题。\n",
    "情感：\n",
    "\n",
    "'''\n",
    "\n",
    "question(prompt)\n",
    "\n"
   ]
  },
  {
   "cell_type": "code",
   "execution_count": 8,
   "id": "ae03d5dd-b5a3-4f90-bdd7-c7440dbc534a",
   "metadata": {},
   "outputs": [
    {
     "name": "stdout",
     "output_type": "stream",
     "text": [
      "歴史は語り尽くせない昨日であり、しかし示唆されるのはより良い明日を築くことです。\n"
     ]
    }
   ],
   "source": [
    "prompt = '''\n",
    "Input: 怕什么真理无穷，进一寸有一寸的欢喜。\n",
    "Output: 無限の真実をなぜ恐れるのでしょうか？一歩一歩の進歩が喜びをもたらします。\n",
    "\n",
    "Input: 大胆假设，小心求证。\n",
    "Output: 大胆な仮定を立てて、それを慎重に検証します。\n",
    "\n",
    "Input: 历史是‘说不尽的昨天’，但启示的是‘做得更好的明天’。\n",
    "Output:\n",
    "\n",
    "'''\n",
    "\n",
    "question(prompt)\n"
   ]
  },
  {
   "cell_type": "code",
   "execution_count": null,
   "id": "4ab2d370-420d-461d-9c33-feb30e831f32",
   "metadata": {},
   "outputs": [],
   "source": []
  }
 ],
 "metadata": {
  "kernelspec": {
   "display_name": "Python 3 (ipykernel)",
   "language": "python",
   "name": "python3"
  },
  "language_info": {
   "codemirror_mode": {
    "name": "ipython",
    "version": 3
   },
   "file_extension": ".py",
   "mimetype": "text/x-python",
   "name": "python",
   "nbconvert_exporter": "python",
   "pygments_lexer": "ipython3",
   "version": "3.12.8"
  }
 },
 "nbformat": 4,
 "nbformat_minor": 5
}
