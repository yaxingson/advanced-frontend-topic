{
 "cells": [
  {
   "cell_type": "code",
   "execution_count": 1,
   "id": "61699c94",
   "metadata": {},
   "outputs": [
    {
     "data": {
      "text/plain": [
       "<function core.question(prompt, model='qwen')>"
      ]
     },
     "execution_count": 1,
     "metadata": {},
     "output_type": "execute_result"
    }
   ],
   "source": [
    "from core import question\n",
    "\n",
    "question\n"
   ]
  },
  {
   "cell_type": "code",
   "execution_count": 7,
   "id": "fbcec509",
   "metadata": {},
   "outputs": [
    {
     "name": "stdout",
     "output_type": "stream",
     "text": [
      "```xml\n",
      "<poem>\n",
      "    <title>致OpenAI</title>\n",
      "    <author>仿李白</author>\n",
      "    <lines>\n",
      "        <line>君自云端降，智慧若星辰。</line>\n",
      "        <line>代码织经纬，数据化乾坤。</line>\n",
      "        <line>千里传信息，万里共晨昏。</line>\n",
      "        <line>不见工匠面，但闻妙语新。</line>\n",
      "        <line>问天何所依？万物皆有痕。</line>\n",
      "        <line>愿君长不老，助我度迷津。</line>\n",
      "    </lines>\n",
      "</poem>\n",
      "```\n"
     ]
    }
   ],
   "source": [
    "question('模仿李白的风格给OpenAI写首唐诗,输出格式为xml')"
   ]
  },
  {
   "cell_type": "code",
   "execution_count": 14,
   "id": "3c101e6b",
   "metadata": {},
   "outputs": [
    {
     "name": "stdout",
     "output_type": "stream",
     "text": [
      "```json\n",
      "{\n",
      "  \"people\": [\"特朗普\"],\n",
      "  \"address\": [\"白宫\", \"美国\"],\n",
      "  \"date\": [\"1月20日\"]\n",
      "}\n",
      "```\n"
     ]
    }
   ],
   "source": [
    "prompt = '''\n",
    "请提取下段内容中出现的人物（people）、地点（address）和日期（date）:\n",
    "\n",
    "输出格式为JSON\n",
    "\n",
    "\"当地时间1月20日，特朗普正式宣誓就任美国第47任总统，再次入主白宫\"\n",
    "\n",
    "'''\n",
    "\n",
    "question(prompt)"
   ]
  },
  {
   "cell_type": "code",
   "execution_count": 12,
   "id": "a777d7b3",
   "metadata": {},
   "outputs": [
    {
     "name": "stdout",
     "output_type": "stream",
     "text": [
      "俄罗斯的首都是莫斯科。\n"
     ]
    }
   ],
   "source": [
    "prompt = '''\n",
    "中国的首都是哪个地方？\n",
    "A: 北京\n",
    "\n",
    "美国的首都是哪个地方？\n",
    "A: 华盛顿\n",
    "\n",
    "日本的首都是哪个地方？\n",
    "A: 东京\n",
    "\n",
    "俄罗斯的首都是哪个地方？\n",
    "A: \n",
    "\n",
    "'''\n",
    "\n",
    "question(prompt)\n"
   ]
  },
  {
   "cell_type": "code",
   "execution_count": 17,
   "id": "471aa573",
   "metadata": {},
   "outputs": [
    {
     "name": "stdout",
     "output_type": "stream",
     "text": [
      "1. \"衔远科技完成数亿元天使轮融资，启明创投领投\"\n",
      "2. \"AI创新产品打造：衔远科技携手启明创投引领数智化转型\"\n",
      "3. \"从判别式到生成式AI：衔远科技引领人工智能新纪元\"\n"
     ]
    }
   ],
   "source": [
    "prompt = '''\n",
    "请为下段内容起三个标题，要求简短、吸引读者:\n",
    "\n",
    "\"\"\"\n",
    "3月1日，北京衔远科技有限公司宣布已完成数亿元天使轮融资，本轮融资由启明创投领投，经纬创投跟投。衔远科技研发的多轮对话ProductGPT目标是与专业人员深度交互与协同，帮助企业高效打造爆款创新产品。\n",
    "\n",
    "衔远科技成立于2021年底，以人工智能技术帮助企业数实融合，实现从需求洞察到产品创新全过程数智化，实现以消费者为中心的产品创新。其创始人周伯文目前任职清华大学惠妍讲席教授、电子工程系长聘教授，2022年5月创建并领导清华大学电子系协同交互智能研究中心。周伯文具有产品创新、技术战略方面的国际和国内大厂高管经历，创业前为原京东集团高级副总裁、集团技术委员会主席、云与AI总裁，京东人工智能研究院院长。此前在美国学习与研究人工智能近20年，为原IBM Research美国总部人工智能基础研究院院长、IBM Watson集团首席科学家、IBM杰出工程师。\n",
    "\n",
    "过去十年，AI企业主要集中在判别式AI领域，如图像识别或语音识别等。启明创投合伙人周志峰表示，近年高速发展的生成式AI及其背后的大规模预训练模型，让人工智能进入了新的时代，也就是从判别式AI到生成式AI\n",
    "\"\"\"\n",
    "\n",
    "'''\n",
    "\n",
    "question(prompt, model=\"kimi\")\n"
   ]
  },
  {
   "cell_type": "code",
   "execution_count": null,
   "id": "8e043b84",
   "metadata": {},
   "outputs": [],
   "source": []
  }
 ],
 "metadata": {
  "kernelspec": {
   "display_name": "Python 3 (ipykernel)",
   "language": "python",
   "name": "python3"
  },
  "language_info": {
   "codemirror_mode": {
    "name": "ipython",
    "version": 3
   },
   "file_extension": ".py",
   "mimetype": "text/x-python",
   "name": "python",
   "nbconvert_exporter": "python",
   "pygments_lexer": "ipython3",
   "version": "3.8.2"
  }
 },
 "nbformat": 4,
 "nbformat_minor": 5
}
