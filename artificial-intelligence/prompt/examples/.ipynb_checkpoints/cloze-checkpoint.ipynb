{
 "cells": [
  {
   "cell_type": "code",
   "execution_count": 1,
   "id": "c673cb10",
   "metadata": {},
   "outputs": [],
   "source": [
    "\"\"\"\n",
    "@autho : <yaxingson, 3228891558@qq.com>\n",
    "@since : 2025/3/3\n",
    "@description : \n",
    "\"\"\"\n",
    "\n",
    "from core import question\n"
   ]
  },
  {
   "cell_type": "code",
   "execution_count": 9,
   "id": "cf74eed0",
   "metadata": {},
   "outputs": [
    {
     "name": "stdout",
     "output_type": "stream",
     "text": [
      "请你补充一下具体的内容哦，这样我才能更好地理解你的需求并为你解答。 \n"
     ]
    }
   ],
   "source": [
    "prompt = \"\"\"\n",
    "\n",
    "\n",
    "\n",
    "\"\"\"\n",
    "\n",
    "question(prompt)\n"
   ]
  },
  {
   "cell_type": "code",
   "execution_count": 3,
   "id": "502be9c0",
   "metadata": {},
   "outputs": [
    {
     "name": "stdout",
     "output_type": "stream",
     "text": [
      "It seems like your message is incomplete. Could you please provide more information or clarify what you're asking? I'm here to help!\n"
     ]
    }
   ],
   "source": [
    "prompt = \"\"\"\n",
    "\n",
    "\n",
    "\"\"\"\n",
    "\n",
    "question(prompt)\n"
   ]
  },
  {
   "cell_type": "code",
   "execution_count": null,
   "id": "96cdf753",
   "metadata": {},
   "outputs": [],
   "source": []
  }
 ],
 "metadata": {
  "kernelspec": {
   "display_name": "Python 3 (ipykernel)",
   "language": "python",
   "name": "python3"
  },
  "language_info": {
   "codemirror_mode": {
    "name": "ipython",
    "version": 3
   },
   "file_extension": ".py",
   "mimetype": "text/x-python",
   "name": "python",
   "nbconvert_exporter": "python",
   "pygments_lexer": "ipython3",
   "version": "3.8.2"
  }
 },
 "nbformat": 4,
 "nbformat_minor": 5
}
