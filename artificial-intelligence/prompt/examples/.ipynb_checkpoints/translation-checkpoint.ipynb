{
 "cells": [
  {
   "cell_type": "code",
   "execution_count": 2,
   "id": "21b1b330",
   "metadata": {},
   "outputs": [
    {
     "name": "stdout",
     "output_type": "stream",
     "text": [
      "生成式人工知能です\n"
     ]
    }
   ],
   "source": [
    "from core import question\n",
    "\n",
    "prompt = \"\"\"\n",
    "请将下段内容按照示例翻译为日语:\n",
    "\n",
    "深度学习 => ディープラーニングです\n",
    "大语言模型 => 大言語モデルです\n",
    "机器学习 => 機械学習です\n",
    "\n",
    "生成式人工智能 => \n",
    "\n",
    "\"\"\"\n",
    "\n",
    "question(prompt)\n"
   ]
  },
  {
   "cell_type": "code",
   "execution_count": null,
   "id": "6fdaecb2",
   "metadata": {},
   "outputs": [],
   "source": []
  }
 ],
 "metadata": {
  "kernelspec": {
   "display_name": "Python 3 (ipykernel)",
   "language": "python",
   "name": "python3"
  },
  "language_info": {
   "codemirror_mode": {
    "name": "ipython",
    "version": 3
   },
   "file_extension": ".py",
   "mimetype": "text/x-python",
   "name": "python",
   "nbconvert_exporter": "python",
   "pygments_lexer": "ipython3",
   "version": "3.8.2"
  }
 },
 "nbformat": 4,
 "nbformat_minor": 5
}
