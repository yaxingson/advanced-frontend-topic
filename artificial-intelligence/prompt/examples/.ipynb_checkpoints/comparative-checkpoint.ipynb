{
 "cells": [
  {
   "cell_type": "code",
   "execution_count": 2,
   "id": "21b1b330",
   "metadata": {},
   "outputs": [
    {
     "data": {
      "text/plain": [
       "'查询失败'"
      ]
     },
     "execution_count": 2,
     "metadata": {},
     "output_type": "execute_result"
    }
   ],
   "source": [
    "from core import call, get_weather\n",
    "\n",
    "get_weather('天津')"
   ]
  },
  {
   "cell_type": "code",
   "execution_count": null,
   "id": "204c9426-a3da-4582-9935-095c06b24b0f",
   "metadata": {},
   "outputs": [],
   "source": []
  },
  {
   "cell_type": "code",
   "execution_count": null,
   "id": "17ef0350-d81a-4137-913a-0089be6367d6",
   "metadata": {},
   "outputs": [],
   "source": []
  }
 ],
 "metadata": {
  "kernelspec": {
   "display_name": "Python 3 (ipykernel)",
   "language": "python",
   "name": "python3"
  },
  "language_info": {
   "codemirror_mode": {
    "name": "ipython",
    "version": 3
   },
   "file_extension": ".py",
   "mimetype": "text/x-python",
   "name": "python",
   "nbconvert_exporter": "python",
   "pygments_lexer": "ipython3",
   "version": "3.12.8"
  }
 },
 "nbformat": 4,
 "nbformat_minor": 5
}
