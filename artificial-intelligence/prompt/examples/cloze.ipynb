{
 "cells": [
  {
   "cell_type": "code",
   "execution_count": 10,
   "id": "c673cb10",
   "metadata": {},
   "outputs": [
    {
     "name": "stdout",
     "output_type": "stream",
     "text": [
      "RAG是\"Retrieval-Augmented Generation\"的缩写，这是一种结合了检索（Retrieval）和生成（Generation）的自然语言处理技术。RAG模型通过检索相关信息来辅助生成任务，以提高生成内容的准确性和相关性。\n",
      "\n",
      "具体来说，RAG模型包含两个主要部分：\n",
      "\n",
      "1. 检索器（Retrieval）：检索器负责从大规模的文档集合中检索出与输入查询最相关的文档片段。这通常通过相似度计算或机器学习模型来实现。\n",
      "\n",
      "2. 生成器（Generation）：生成器基于检索到的文档片段，使用序列生成模型（如Transformer）来生成连贯、准确的回答。\n",
      "\n",
      "RAG模型的优势在于：\n",
      "\n",
      "1. 结合检索和生成的优点，提高回答的准确性和相关性。\n",
      "\n",
      "2. 能够处理复杂的、需要大量上下文信息的问题。\n",
      "\n",
      "3. 可以利用大规模的文档集合，提高回答的覆盖范围。\n",
      "\n",
      "RAG模型在问答、对话系统、文本摘要等领域有广泛的应用。它通过检索相关信息来辅助生成任务，提高了生成内容的质量和可靠性。\n"
     ]
    }
   ],
   "source": [
    "from core import question\n",
    "\n",
    "prompt_1 = '''\n",
    "LLM中Prompt的Message类型\n",
    "\n",
    "'''\n",
    "\n",
    "question('RAG是什么', model='kimi')\n",
    "\n"
   ]
  },
  {
   "cell_type": "code",
   "execution_count": null,
   "id": "cf74eed0",
   "metadata": {},
   "outputs": [],
   "source": []
  }
 ],
 "metadata": {
  "kernelspec": {
   "display_name": "Python 3 (ipykernel)",
   "language": "python",
   "name": "python3"
  },
  "language_info": {
   "codemirror_mode": {
    "name": "ipython",
    "version": 3
   },
   "file_extension": ".py",
   "mimetype": "text/x-python",
   "name": "python",
   "nbconvert_exporter": "python",
   "pygments_lexer": "ipython3",
   "version": "3.8.2"
  }
 },
 "nbformat": 4,
 "nbformat_minor": 5
}
